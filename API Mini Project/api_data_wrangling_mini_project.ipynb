{
 "cells": [
  {
   "cell_type": "markdown",
   "metadata": {},
   "source": [
    "This exercise will require you to pull some data from the Qunadl API. Qaundl is currently the most widely used aggregator of financial market data."
   ]
  },
  {
   "cell_type": "markdown",
   "metadata": {},
   "source": [
    "As a first step, you will need to register a free account on the http://www.quandl.com website."
   ]
  },
  {
   "cell_type": "markdown",
   "metadata": {},
   "source": [
    "After you register, you will be provided with a unique API key, that you should store:"
   ]
  },
  {
   "cell_type": "code",
   "execution_count": 1,
   "metadata": {},
   "outputs": [],
   "source": [
    "# Store the API key as a string - according to PEP8, constants are always named in all upper case\n",
    "API_KEY = '_Ujfgj2bP_8Yhp7JVjSX'"
   ]
  },
  {
   "cell_type": "markdown",
   "metadata": {},
   "source": [
    "Qaundl has a large number of data sources, but, unfortunately, most of them require a Premium subscription. Still, there are also a good number of free datasets."
   ]
  },
  {
   "cell_type": "markdown",
   "metadata": {},
   "source": [
    "For this mini project, we will focus on equities data from the Frankfurt Stock Exhange (FSE), which is available for free. We'll try and analyze the stock prices of a company called Carl Zeiss Meditec, which manufactures tools for eye examinations, as well as medical lasers for laser eye surgery: https://www.zeiss.com/meditec/int/home.html. The company is listed under the stock ticker AFX_X."
   ]
  },
  {
   "cell_type": "markdown",
   "metadata": {},
   "source": [
    "You can find the detailed Quandl API instructions here: https://docs.quandl.com/docs/time-series"
   ]
  },
  {
   "cell_type": "markdown",
   "metadata": {},
   "source": [
    "While there is a dedicated Python package for connecting to the Quandl API, we would prefer that you use the *requests* package, which can be easily downloaded using *pip* or *conda*. You can find the documentation for the package here: http://docs.python-requests.org/en/master/ "
   ]
  },
  {
   "cell_type": "markdown",
   "metadata": {},
   "source": [
    "Finally, apart from the *requests* package, you are encouraged to not use any third party Python packages, such as *pandas*, and instead focus on what's available in the Python Standard Library (the *collections* module might come in handy: https://pymotw.com/3/collections/).\n",
    "Also, since you won't have access to DataFrames, you are encouraged to us Python's native data structures - preferably dictionaries, though some questions can also be answered using lists.\n",
    "You can read more on these data structures here: https://docs.python.org/3/tutorial/datastructures.html"
   ]
  },
  {
   "cell_type": "markdown",
   "metadata": {},
   "source": [
    "Keep in mind that the JSON responses you will be getting from the API map almost one-to-one to Python's dictionaries. Unfortunately, they can be very nested, so make sure you read up on indexing dictionaries in the documentation provided above."
   ]
  },
  {
   "cell_type": "code",
   "execution_count": 2,
   "metadata": {},
   "outputs": [],
   "source": [
    "# First, import the relevant modules\n",
    "import requests\n",
    "import collections as c\n",
    "import json"
   ]
  },
  {
   "cell_type": "code",
   "execution_count": 3,
   "metadata": {},
   "outputs": [
    {
     "data": {
      "text/plain": [
       "'{\"dataset\":{\"id\":10095370,\"dataset_code\":\"AFX_X\",\"database_code\":\"FSE\",\"name\":\"Carl Zeiss Meditec (AFX_X)\",\"description\":\"Stock Prices for Carl Zeiss Meditec (AFX) from the Frankfurt Stock Exchange.\\\\u003cbr\\\\u003e\\\\u003cbr\\\\u003eTrading System: Xetra\\\\u003cbr\\\\u003e\\\\u003cbr\\\\u003eISIN: DE0005313704\",\"refreshed_at\":\"2019-02-15T22:30:19.722Z\",\"newest_available_date\":\"2019-02-15\",\"oldest_available_date\":\"2000-06-07\",\"column_names\":[\"Date\",\"Open\",\"High\",\"Low\",\"Close\",\"Change\",\"Traded Volume\",\"Turnover\",\"Last Price of the Day\",\"Daily Traded Units\",\"Daily Turnover\"],\"frequency\":\"daily\",\"type\":\"Time Series\",\"premium\":false,\"limit\":null,\"transform\":null,\"column_index\":null,\"start_date\":\"2014-01-02\",\"end_date\":\"2014-01-03\",\"data\":[[\"2014-01-03\",24.04,24.47,24.03,24.47,null,20503.0,499475.0,null,null,null],[\"2014-01-02\",24.24,24.76,23.77,24.18,null,55735.0,1355658.0,null,null,null]],\"collapse\":null,\"order\":null,\"database_id\":6129}}'"
      ]
     },
     "execution_count": 3,
     "metadata": {},
     "output_type": "execute_result"
    }
   ],
   "source": [
    "# Now, call the Quandl API and pull out a small sample of the data (only one day) to get a glimpse\n",
    "# into the JSON structure that will be returned\n",
    "r_sample = requests.get('https://www.quandl.com/api/v3/datasets/FSE/AFX_X.json?api_key='+API_KEY+'&start_date=2014-01-02&end_date=2014-01-03')\n",
    "r_sample.text"
   ]
  },
  {
   "cell_type": "code",
   "execution_count": 4,
   "metadata": {},
   "outputs": [
    {
     "name": "stdout",
     "output_type": "stream",
     "text": [
      "{\n",
      "   \"dataset\": {\n",
      "      \"collapse\": null,\n",
      "      \"column_index\": null,\n",
      "      \"column_names\": [\n",
      "         \"Date\",\n",
      "         \"Open\",\n",
      "         \"High\",\n",
      "         \"Low\",\n",
      "         \"Close\",\n",
      "         \"Change\",\n",
      "         \"Traded Volume\",\n",
      "         \"Turnover\",\n",
      "         \"Last Price of the Day\",\n",
      "         \"Daily Traded Units\",\n",
      "         \"Daily Turnover\"\n",
      "      ],\n",
      "      \"data\": [\n",
      "         [\n",
      "            \"2014-01-03\",\n",
      "            24.04,\n",
      "            24.47,\n",
      "            24.03,\n",
      "            24.47,\n",
      "            null,\n",
      "            20503.0,\n",
      "            499475.0,\n",
      "            null,\n",
      "            null,\n",
      "            null\n",
      "         ],\n",
      "         [\n",
      "            \"2014-01-02\",\n",
      "            24.24,\n",
      "            24.76,\n",
      "            23.77,\n",
      "            24.18,\n",
      "            null,\n",
      "            55735.0,\n",
      "            1355658.0,\n",
      "            null,\n",
      "            null,\n",
      "            null\n",
      "         ]\n",
      "      ],\n",
      "      \"database_code\": \"FSE\",\n",
      "      \"database_id\": 6129,\n",
      "      \"dataset_code\": \"AFX_X\",\n",
      "      \"description\": \"Stock Prices for Carl Zeiss Meditec (AFX) from the Frankfurt Stock Exchange.<br><br>Trading System: Xetra<br><br>ISIN: DE0005313704\",\n",
      "      \"end_date\": \"2014-01-03\",\n",
      "      \"frequency\": \"daily\",\n",
      "      \"id\": 10095370,\n",
      "      \"limit\": null,\n",
      "      \"name\": \"Carl Zeiss Meditec (AFX_X)\",\n",
      "      \"newest_available_date\": \"2019-02-15\",\n",
      "      \"oldest_available_date\": \"2000-06-07\",\n",
      "      \"order\": null,\n",
      "      \"premium\": false,\n",
      "      \"refreshed_at\": \"2019-02-15T22:30:19.722Z\",\n",
      "      \"start_date\": \"2014-01-02\",\n",
      "      \"transform\": null,\n",
      "      \"type\": \"Time Series\"\n",
      "   }\n",
      "}\n"
     ]
    }
   ],
   "source": [
    "# Inspect the JSON structure of the object you created, and take note of how nested it is,\n",
    "# as well as the overall structure\n",
    "data = json.loads(r_sample.text)\n",
    "print(json.dumps(data, indent=3,sort_keys=True))"
   ]
  },
  {
   "cell_type": "markdown",
   "metadata": {},
   "source": [
    "These are your tasks for this mini project:\n",
    "\n",
    "1. Collect data from the Franfurt Stock Exchange, for the ticker AFX_X, for the whole year 2017 (keep in mind that the date format is YYYY-MM-DD).\n",
    "2. Convert the returned JSON object into a Python dictionary.\n",
    "3. Calculate what the highest and lowest opening prices were for the stock in this period.\n",
    "4. What was the largest change in any one day (based on High and Low price)?\n",
    "5. What was the largest change between any two days (based on Closing Price)?\n",
    "6. What was the average daily trading volume during this year?\n",
    "7. (Optional) What was the median trading volume during this year. (Note: you may need to implement your own function for calculating the median.)"
   ]
  },
  {
   "cell_type": "code",
   "execution_count": 5,
   "metadata": {},
   "outputs": [
    {
     "data": {
      "text/plain": [
       "['2017-12-29',\n",
       " 51.76,\n",
       " 51.94,\n",
       " 51.45,\n",
       " 51.76,\n",
       " None,\n",
       " 34640.0,\n",
       " 1792304.0,\n",
       " None,\n",
       " None,\n",
       " None]"
      ]
     },
     "execution_count": 5,
     "metadata": {},
     "output_type": "execute_result"
    }
   ],
   "source": [
    "#Request Stock data for AFX for 2017 on Frankfurt Stock Exchange using Quandl \n",
    "r = requests.get('https://www.quandl.com/api/v3/datasets/FSE/AFX_X.json?api_key='+API_KEY+'&start_date=2017-01-01&end_date=2017-12-31')\n",
    "data2017 = json.loads(r.text)\n",
    "stockdata = data2017['dataset']['data']\n",
    "#Inspect sample of dataset\n",
    "stockdata[0]"
   ]
  },
  {
   "cell_type": "code",
   "execution_count": 6,
   "metadata": {},
   "outputs": [
    {
     "data": {
      "text/plain": [
       "dict"
      ]
     },
     "execution_count": 6,
     "metadata": {},
     "output_type": "execute_result"
    }
   ],
   "source": [
    "#Check that data is in dict format\n",
    "type(data2017)"
   ]
  },
  {
   "cell_type": "code",
   "execution_count": 7,
   "metadata": {},
   "outputs": [
    {
     "data": {
      "text/plain": [
       "[StockData(date='2017-12-28', openp=51.65, high=51.82, low=51.43, close=51.6, change=None, tradevol=40660.0, turnover=2099024.0)]"
      ]
     },
     "execution_count": 7,
     "metadata": {},
     "output_type": "execute_result"
    }
   ],
   "source": [
    "#Instantiate StockData named tuple instance\n",
    "StockData = c.namedtuple('StockData',['date','openp','high','low','close','change','tradevol','turnover'])\n",
    "datalist = []\n",
    "#Convert data to named tuple for easier processing\n",
    "for row in stockdata:\n",
    "    data = StockData(date=row[0],openp=row[1],high=row[2],low=row[3],close=row[4],change=row[5],tradevol=row[6],turnover=row[7])\n",
    "    datalist.append(data)\n",
    "datalist[1:2]"
   ]
  },
  {
   "cell_type": "code",
   "execution_count": 8,
   "metadata": {},
   "outputs": [
    {
     "name": "stdout",
     "output_type": "stream",
     "text": [
      "Highest Opening Price: 53.11\n",
      "Lowest Opening Price: 34.0\n"
     ]
    }
   ],
   "source": [
    "#Find highest and lowest open prices, exclude NoneTypes\n",
    "openprices = []\n",
    "for item in datalist:\n",
    "    if type(item.openp) == float:\n",
    "        openprices.append(item.openp)\n",
    "print('Highest Opening Price:', max(openprices))\n",
    "print('Lowest Opening Price:', min(openprices))"
   ]
  },
  {
   "cell_type": "code",
   "execution_count": 9,
   "metadata": {},
   "outputs": [
    {
     "name": "stdout",
     "output_type": "stream",
     "text": [
      "Largest Intra-Day change: 2.81\n"
     ]
    }
   ],
   "source": [
    "#Find largest intraday change\n",
    "large_intra_change = datalist[0].high - datalist[0].low\n",
    "for item in datalist:\n",
    "    change = item.high - item.low\n",
    "    if change > large_intra_change:\n",
    "        large_intra_change = change\n",
    "print('Largest Intra-Day change:', round(large_intra_change,2))"
   ]
  },
  {
   "cell_type": "code",
   "execution_count": 10,
   "metadata": {},
   "outputs": [
    {
     "name": "stdout",
     "output_type": "stream",
     "text": [
      "Largest Inter-Day Change (close): 2.56\n"
     ]
    }
   ],
   "source": [
    "#Find largest change between any two days\n",
    "large_inter_change = datalist[1].close - datalist[0].close\n",
    "for index, row in enumerate(datalist):\n",
    "    if index == len(datalist)-1:\n",
    "        break\n",
    "    inter_change = datalist[index+1].close - row.close\n",
    "    if inter_change > large_inter_change:\n",
    "        large_inter_change = inter_change\n",
    "print('Largest Inter-Day Change (close):',round(large_inter_change,2))"
   ]
  },
  {
   "cell_type": "code",
   "execution_count": 11,
   "metadata": {},
   "outputs": [
    {
     "name": "stdout",
     "output_type": "stream",
     "text": [
      "Average Daily Volume: 89124.34\n"
     ]
    }
   ],
   "source": [
    "#Find Average Trading Volume\n",
    "volume_list = []\n",
    "for row in datalist:\n",
    "    volume_list.append(row.tradevol)\n",
    "avg_vol = sum(volume_list)/len(volume_list)\n",
    "print('Average Daily Volume:',round(avg_vol,2))"
   ]
  },
  {
   "cell_type": "code",
   "execution_count": 12,
   "metadata": {},
   "outputs": [
    {
     "name": "stdout",
     "output_type": "stream",
     "text": [
      "Median Daily Trading Volume: 76286.0\n"
     ]
    }
   ],
   "source": [
    "#Find Median Trading Volume\n",
    "def median(data_list):\n",
    "    sorted_list = sorted(data_list)\n",
    "    midpoint = len(sorted_list)/2\n",
    "    if len(sorted_list)%2 == 0:\n",
    "        median = (sorted_list[midpoint-1] + sorted_list[midpoint])/2\n",
    "    else:\n",
    "        median = sorted_list[int(round(midpoint,0))-1]\n",
    "    return median\n",
    "print('Median Daily Trading Volume:',round(median(volume_list),2))"
   ]
  },
  {
   "cell_type": "markdown",
   "metadata": {},
   "source": [
    "The Median and Mean daily trading volumes differ significantly, suggesting a skewed distribution of volume as opposed to symmetrical"
   ]
  },
  {
   "cell_type": "code",
   "execution_count": null,
   "metadata": {},
   "outputs": [],
   "source": []
  }
 ],
 "metadata": {
  "kernelspec": {
   "display_name": "Python 3",
   "language": "python",
   "name": "python3"
  },
  "language_info": {
   "codemirror_mode": {
    "name": "ipython",
    "version": 3
   },
   "file_extension": ".py",
   "mimetype": "text/x-python",
   "name": "python",
   "nbconvert_exporter": "python",
   "pygments_lexer": "ipython3",
   "version": "3.7.1"
  }
 },
 "nbformat": 4,
 "nbformat_minor": 2
}
