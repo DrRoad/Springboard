{
 "cells": [
  {
   "cell_type": "markdown",
   "metadata": {},
   "source": [
    "## Import Elevations"
   ]
  },
  {
   "cell_type": "code",
   "execution_count": null,
   "metadata": {},
   "outputs": [],
   "source": [
    "import pandas as pd\n",
    "import requests\n",
    "import json"
   ]
  },
  {
   "cell_type": "code",
   "execution_count": null,
   "metadata": {},
   "outputs": [],
   "source": [
    "#converts georgia lats and longs to values in signed decimal notation\n",
    "def convertlatlong(loc,lat=True):\n",
    "    deg = float(str(loc)[0:2])\n",
    "    minute = float(str(loc)[2:4])\n",
    "    sec = float(str(loc)[4:5]+'.'+str(loc)[5:])\n",
    "    final = round(deg+minute/60+sec/3600,3)\n",
    "    if lat == False:\n",
    "        final = -final\n",
    "    return final\n",
    "\n",
    "#Get elevation with one request at a time, due to Open Elevation API limitations in retrieving elevation data along a profile (easy to exceed max distance between points)\n",
    "def geteachelevation(df):\n",
    "    #Initialize variables\n",
    "    location_df = df[['LAT_016','LONG_017']]\n",
    "    location_df.insert(loc=2,column='lat',value=0)\n",
    "    location_df.insert(loc=3,column='long',value=0)\n",
    "    location_df.insert(loc=4,column='elevation',value=0)\n",
    "    API_KEY = 'lGkweI18DIdVVlSAQsnLKi4BGAhH8YNf'\n",
    "    \n",
    "    #parse location_df to convert lat/long to standard format\n",
    "    location_df['lat'] = location_df['LAT_016'].apply(lambda x: convertlatlong(x,lat=True))\n",
    "    location_df['long'] = location_df['LONG_017'].apply(lambda x: convertlatlong(x,lat=False))\n",
    "    location_df.reset_index(drop=True,inplace=True)\n",
    "    \n",
    "    #Request elevations\n",
    "    for index, row in location_df.iterrows():\n",
    "        api_string = str(row[2])+','+str(row[3])       \n",
    "        #print(api_string)\n",
    "        response = requests.get('http://open.mapquestapi.com/elevation/v1/profile?key='+API_KEY+'&shapeFormat=raw&unit=f&latLngCollection='+api_string)\n",
    "        #parse json for elevations\n",
    "        elev = json.loads(response.text)\n",
    "        #print(elev)\n",
    "        #print(y)\n",
    "        if 'elevationProfile' in elev.keys():\n",
    "            if len(elev['elevationProfile']) == 1:\n",
    "                elevation = elev['elevationProfile'][0]['height']\n",
    "            else:\n",
    "                elevation = -32768\n",
    "        else:\n",
    "            elevation = -32768\n",
    "        location_df.iloc[index,4] = elevation\n",
    "        \n",
    "    return location_df\n",
    "\n",
    "#Uses Mapquest Open Elevation API to get elevations corresponding to specific latitude/longitude pairs, 5 at a time\n",
    "def getelevation(df):\n",
    "    #Initialize variables\n",
    "    max_query_length = 5\n",
    "    location_df = df[['LAT_016','LONG_017']]\n",
    "    location_df.insert(loc=2,column='lat',value=0)\n",
    "    location_df.insert(loc=3,column='long',value=0)\n",
    "    location_df.insert(loc=4,column='elevation',value=0)\n",
    "    length = location_df.shape[0]\n",
    "    API_KEY = 'UKwrmeHVQ8q3ukLXjaBs74NZ822PF7DQ'\n",
    "    \n",
    "    #parse location_df to convert lat/long to standard format\n",
    "    location_df['lat'] = location_df['LAT_016'].apply(lambda x: convertlatlong(x,lat=True))\n",
    "    location_df['long'] = location_df['LONG_017'].apply(lambda x: convertlatlong(x,lat=False))\n",
    "    location_df.sort_values(by=['lat','long'], inplace=True)\n",
    "    location_df.reset_index(drop=True, inplace=True)\n",
    "    #Request elevations in chunks due to API limits\n",
    "    for i in range(0, length, max_query_length):\n",
    "        api_string = ''\n",
    "        if i+max_query_length > length:\n",
    "            y = length - i\n",
    "        else:\n",
    "            y = max_query_length\n",
    "        #format string of lat's and long's to include in api request to Mapquest\n",
    "        hold_df = location_df.iloc[i:i+y]\n",
    "        hold_df = hold_df.reset_index(drop=True)\n",
    "        #print(hold_df)\n",
    "        for index, row in hold_df.iterrows():\n",
    "            if index == 0:\n",
    "                api_string = api_string+str(row[2])+','+str(row[3])\n",
    "            else:\n",
    "                api_string = api_string+','+str(row[2])+','+str(row[3])\n",
    "        print(api_string)\n",
    "        response = requests.get('http://open.mapquestapi.com/elevation/v1/profile?key='+API_KEY+'&shapeFormat=raw&unit=f&latLngCollection='+api_string)\n",
    "        #parse json for elevations\n",
    "        elev = json.loads(response.text)\n",
    "        print(elev)\n",
    "        #print(y)\n",
    "        for index, x in enumerate(list(range(i,i+y))):\n",
    "            #print(index, x)\n",
    "            #print(elev['elevationProfile'][index]['height'])\n",
    "            if index in range(len(elev['elevationProfile'])):\n",
    "                elevation = elev['elevationProfile'][index]['height']\n",
    "                location_df.iloc[x,4] = elevation\n",
    "            else:\n",
    "                location_df.iloc[x,4] = -32768\n",
    "    location_df.sort_index(inplace=True)\n",
    "    return location_df"
   ]
  },
  {
   "cell_type": "markdown",
   "metadata": {},
   "source": [
    "## Example function call"
   ]
  },
  {
   "cell_type": "code",
   "execution_count": null,
   "metadata": {},
   "outputs": [],
   "source": [
    "#df data = whole dataset\n",
    "data.drop(data[data['LAT_016'] == 0].index,inplace=True)\n",
    "elevations = geteachelevation(data)\n",
    "elevations.to_csv('elevations.csv')"
   ]
  }
 ],
 "metadata": {
  "kernelspec": {
   "display_name": "Python 3",
   "language": "python",
   "name": "python3"
  },
  "language_info": {
   "codemirror_mode": {
    "name": "ipython",
    "version": 3
   },
   "file_extension": ".py",
   "mimetype": "text/x-python",
   "name": "python",
   "nbconvert_exporter": "python",
   "pygments_lexer": "ipython3",
   "version": "3.7.1"
  }
 },
 "nbformat": 4,
 "nbformat_minor": 2
}
