{
 "cells": [
  {
   "cell_type": "code",
   "execution_count": 1,
   "metadata": {},
   "outputs": [],
   "source": [
    "#This project has been worked in conjunction with the guidance found in the \n",
    "#Recording and Coding Guide for the Structure Inventory and Appraisal of the Nations Bridges on the FHWA website\n",
    "import pandas as pd\n",
    "import matplotlib.pyplot as plt\n",
    "import seaborn as sns\n",
    "current_year = 2017"
   ]
  },
  {
   "cell_type": "code",
   "execution_count": 2,
   "metadata": {},
   "outputs": [
    {
     "name": "stdout",
     "output_type": "stream",
     "text": [
      "Number of Bridges in Georgia (2017): 9198\n",
      "Number of data_bridgeset Features: 137\n"
     ]
    },
    {
     "name": "stderr",
     "output_type": "stream",
     "text": [
      "/anaconda3/lib/python3.7/site-packages/IPython/core/interactiveshell.py:2785: DtypeWarning: Columns (1,5,31,75,98) have mixed types. Specify dtype option on import or set low_memory=False.\n",
      "  interactivity=interactivity, compiler=compiler, result=result)\n"
     ]
    }
   ],
   "source": [
    "filedata = pd.read_csv('GA17.txt')\n",
    "#drop all culverts from the dataset, we only want to analyze bridges\n",
    "data = filedata.loc[filedata['CULVERT_COND_062']=='N']\n",
    "num_bridges = data.shape[0]\n",
    "num_features_orig = data.shape[1]\n",
    "feature_list = []\n",
    "print('Number of Bridges in Georgia (2017):',num_bridges)\n",
    "print('Number of data_bridgeset Features:',num_features_orig)"
   ]
  },
  {
   "cell_type": "markdown",
   "metadata": {},
   "source": [
    "Interestingly, the GDOT website says that there are 14,750 bridges in Georgia as of 2018. There definition must include culverts to some extent."
   ]
  },
  {
   "cell_type": "code",
   "execution_count": 3,
   "metadata": {
    "scrolled": false
   },
   "outputs": [
    {
     "data": {
      "text/html": [
       "<div>\n",
       "<style scoped>\n",
       "    .dataframe tbody tr th:only-of-type {\n",
       "        vertical-align: middle;\n",
       "    }\n",
       "\n",
       "    .dataframe tbody tr th {\n",
       "        vertical-align: top;\n",
       "    }\n",
       "\n",
       "    .dataframe thead th {\n",
       "        text-align: right;\n",
       "    }\n",
       "</style>\n",
       "<table border=\"1\" class=\"dataframe\">\n",
       "  <thead>\n",
       "    <tr style=\"text-align: right;\">\n",
       "      <th></th>\n",
       "      <th>STATE_CODE_001</th>\n",
       "      <th>STRUCTURE_NUMBER_008</th>\n",
       "      <th>RECORD_TYPE_005A</th>\n",
       "      <th>ROUTE_PREFIX_005B</th>\n",
       "      <th>SERVICE_LEVEL_005C</th>\n",
       "      <th>ROUTE_NUMBER_005D</th>\n",
       "      <th>DIRECTION_005E</th>\n",
       "      <th>HIGHWAY_DISTRICT_002</th>\n",
       "      <th>COUNTY_CODE_003</th>\n",
       "      <th>PLACE_CODE_004</th>\n",
       "      <th>...</th>\n",
       "      <th>DTL_TYPE_OF_IMP</th>\n",
       "      <th>SPECIAL_CODE</th>\n",
       "      <th>STEP_CODE</th>\n",
       "      <th>STATUS_WITH_10YR_RULE</th>\n",
       "      <th>SUFFICIENCY_ASTERC</th>\n",
       "      <th>SUFFICIENCY_RATING</th>\n",
       "      <th>STATUS_NO_10YR_RULE</th>\n",
       "      <th>CAT10</th>\n",
       "      <th>CAT23</th>\n",
       "      <th>CAT29</th>\n",
       "    </tr>\n",
       "  </thead>\n",
       "  <tbody>\n",
       "    <tr>\n",
       "      <th>0</th>\n",
       "      <td>13</td>\n",
       "      <td>1GA3906</td>\n",
       "      <td>1</td>\n",
       "      <td>8</td>\n",
       "      <td>8</td>\n",
       "      <td>0</td>\n",
       "      <td>0</td>\n",
       "      <td>0</td>\n",
       "      <td>39</td>\n",
       "      <td>0</td>\n",
       "      <td>...</td>\n",
       "      <td>NaN</td>\n",
       "      <td>NaN</td>\n",
       "      <td>NaN</td>\n",
       "      <td>0</td>\n",
       "      <td>NaN</td>\n",
       "      <td>93.0</td>\n",
       "      <td>0</td>\n",
       "      <td>G</td>\n",
       "      <td>7</td>\n",
       "      <td>404.68</td>\n",
       "    </tr>\n",
       "    <tr>\n",
       "      <th>1</th>\n",
       "      <td>13</td>\n",
       "      <td>1GA3988</td>\n",
       "      <td>1</td>\n",
       "      <td>6</td>\n",
       "      <td>0</td>\n",
       "      <td>0</td>\n",
       "      <td>0</td>\n",
       "      <td>0</td>\n",
       "      <td>39</td>\n",
       "      <td>0</td>\n",
       "      <td>...</td>\n",
       "      <td>NaN</td>\n",
       "      <td>NaN</td>\n",
       "      <td>NaN</td>\n",
       "      <td>0</td>\n",
       "      <td>NaN</td>\n",
       "      <td>84.0</td>\n",
       "      <td>0</td>\n",
       "      <td>F</td>\n",
       "      <td>6</td>\n",
       "      <td>34.84</td>\n",
       "    </tr>\n",
       "    <tr>\n",
       "      <th>2</th>\n",
       "      <td>13</td>\n",
       "      <td>1GA4976</td>\n",
       "      <td>1</td>\n",
       "      <td>8</td>\n",
       "      <td>0</td>\n",
       "      <td>0</td>\n",
       "      <td>0</td>\n",
       "      <td>0</td>\n",
       "      <td>39</td>\n",
       "      <td>0</td>\n",
       "      <td>...</td>\n",
       "      <td>NaN</td>\n",
       "      <td>NaN</td>\n",
       "      <td>NaN</td>\n",
       "      <td>0</td>\n",
       "      <td>NaN</td>\n",
       "      <td>71.3</td>\n",
       "      <td>0</td>\n",
       "      <td>F</td>\n",
       "      <td>5</td>\n",
       "      <td>265.32</td>\n",
       "    </tr>\n",
       "    <tr>\n",
       "      <th>3</th>\n",
       "      <td>13</td>\n",
       "      <td>2GA1475</td>\n",
       "      <td>1</td>\n",
       "      <td>8</td>\n",
       "      <td>8</td>\n",
       "      <td>0</td>\n",
       "      <td>0</td>\n",
       "      <td>0</td>\n",
       "      <td>95</td>\n",
       "      <td>1052</td>\n",
       "      <td>...</td>\n",
       "      <td>NaN</td>\n",
       "      <td>NaN</td>\n",
       "      <td>NaN</td>\n",
       "      <td>2</td>\n",
       "      <td>NaN</td>\n",
       "      <td>49.0</td>\n",
       "      <td>2</td>\n",
       "      <td>F</td>\n",
       "      <td>6</td>\n",
       "      <td>190.19</td>\n",
       "    </tr>\n",
       "    <tr>\n",
       "      <th>4</th>\n",
       "      <td>13</td>\n",
       "      <td>2GA1802</td>\n",
       "      <td>1</td>\n",
       "      <td>8</td>\n",
       "      <td>8</td>\n",
       "      <td>0</td>\n",
       "      <td>0</td>\n",
       "      <td>0</td>\n",
       "      <td>95</td>\n",
       "      <td>1052</td>\n",
       "      <td>...</td>\n",
       "      <td>NaN</td>\n",
       "      <td>NaN</td>\n",
       "      <td>NaN</td>\n",
       "      <td>1</td>\n",
       "      <td>NaN</td>\n",
       "      <td>49.1</td>\n",
       "      <td>1</td>\n",
       "      <td>P</td>\n",
       "      <td>4</td>\n",
       "      <td>117.42</td>\n",
       "    </tr>\n",
       "    <tr>\n",
       "      <th>6</th>\n",
       "      <td>13</td>\n",
       "      <td>000000000000036</td>\n",
       "      <td>1</td>\n",
       "      <td>8</td>\n",
       "      <td>1</td>\n",
       "      <td>0</td>\n",
       "      <td>0</td>\n",
       "      <td>0</td>\n",
       "      <td>53</td>\n",
       "      <td>30760</td>\n",
       "      <td>...</td>\n",
       "      <td>NaN</td>\n",
       "      <td>NaN</td>\n",
       "      <td>NaN</td>\n",
       "      <td>2</td>\n",
       "      <td>*</td>\n",
       "      <td>94.9</td>\n",
       "      <td>2</td>\n",
       "      <td>F</td>\n",
       "      <td>6</td>\n",
       "      <td>354.54</td>\n",
       "    </tr>\n",
       "    <tr>\n",
       "      <th>8</th>\n",
       "      <td>13</td>\n",
       "      <td>000000000000045</td>\n",
       "      <td>1</td>\n",
       "      <td>8</td>\n",
       "      <td>1</td>\n",
       "      <td>0</td>\n",
       "      <td>0</td>\n",
       "      <td>0</td>\n",
       "      <td>53</td>\n",
       "      <td>30760</td>\n",
       "      <td>...</td>\n",
       "      <td>NaN</td>\n",
       "      <td>NaN</td>\n",
       "      <td>NaN</td>\n",
       "      <td>0</td>\n",
       "      <td>NaN</td>\n",
       "      <td>94.6</td>\n",
       "      <td>0</td>\n",
       "      <td>F</td>\n",
       "      <td>5</td>\n",
       "      <td>106.86</td>\n",
       "    </tr>\n",
       "    <tr>\n",
       "      <th>9</th>\n",
       "      <td>13</td>\n",
       "      <td>0000000000M9352</td>\n",
       "      <td>1</td>\n",
       "      <td>8</td>\n",
       "      <td>1</td>\n",
       "      <td>0</td>\n",
       "      <td>0</td>\n",
       "      <td>0</td>\n",
       "      <td>53</td>\n",
       "      <td>30760</td>\n",
       "      <td>...</td>\n",
       "      <td>NaN</td>\n",
       "      <td>NaN</td>\n",
       "      <td>NaN</td>\n",
       "      <td>0</td>\n",
       "      <td>NaN</td>\n",
       "      <td>98.0</td>\n",
       "      <td>0</td>\n",
       "      <td>F</td>\n",
       "      <td>6</td>\n",
       "      <td>515.20</td>\n",
       "    </tr>\n",
       "    <tr>\n",
       "      <th>10</th>\n",
       "      <td>13</td>\n",
       "      <td>0000000000M9354</td>\n",
       "      <td>1</td>\n",
       "      <td>8</td>\n",
       "      <td>1</td>\n",
       "      <td>0</td>\n",
       "      <td>0</td>\n",
       "      <td>0</td>\n",
       "      <td>215</td>\n",
       "      <td>30760</td>\n",
       "      <td>...</td>\n",
       "      <td>NaN</td>\n",
       "      <td>NaN</td>\n",
       "      <td>NaN</td>\n",
       "      <td>0</td>\n",
       "      <td>*</td>\n",
       "      <td>97.0</td>\n",
       "      <td>0</td>\n",
       "      <td>F</td>\n",
       "      <td>5</td>\n",
       "      <td>441.62</td>\n",
       "    </tr>\n",
       "    <tr>\n",
       "      <th>11</th>\n",
       "      <td>13</td>\n",
       "      <td>0000000000M9355</td>\n",
       "      <td>1</td>\n",
       "      <td>8</td>\n",
       "      <td>1</td>\n",
       "      <td>0</td>\n",
       "      <td>0</td>\n",
       "      <td>0</td>\n",
       "      <td>215</td>\n",
       "      <td>30760</td>\n",
       "      <td>...</td>\n",
       "      <td>NaN</td>\n",
       "      <td>NaN</td>\n",
       "      <td>NaN</td>\n",
       "      <td>0</td>\n",
       "      <td>NaN</td>\n",
       "      <td>93.0</td>\n",
       "      <td>0</td>\n",
       "      <td>F</td>\n",
       "      <td>6</td>\n",
       "      <td>1232.64</td>\n",
       "    </tr>\n",
       "  </tbody>\n",
       "</table>\n",
       "<p>10 rows × 137 columns</p>\n",
       "</div>"
      ],
      "text/plain": [
       "    STATE_CODE_001 STRUCTURE_NUMBER_008  RECORD_TYPE_005A  ROUTE_PREFIX_005B  \\\n",
       "0               13              1GA3906                 1                  8   \n",
       "1               13              1GA3988                 1                  6   \n",
       "2               13              1GA4976                 1                  8   \n",
       "3               13              2GA1475                 1                  8   \n",
       "4               13              2GA1802                 1                  8   \n",
       "6               13      000000000000036                 1                  8   \n",
       "8               13      000000000000045                 1                  8   \n",
       "9               13      0000000000M9352                 1                  8   \n",
       "10              13      0000000000M9354                 1                  8   \n",
       "11              13      0000000000M9355                 1                  8   \n",
       "\n",
       "    SERVICE_LEVEL_005C ROUTE_NUMBER_005D  DIRECTION_005E  \\\n",
       "0                    8                 0               0   \n",
       "1                    0                 0               0   \n",
       "2                    0                 0               0   \n",
       "3                    8                 0               0   \n",
       "4                    8                 0               0   \n",
       "6                    1                 0               0   \n",
       "8                    1                 0               0   \n",
       "9                    1                 0               0   \n",
       "10                   1                 0               0   \n",
       "11                   1                 0               0   \n",
       "\n",
       "    HIGHWAY_DISTRICT_002  COUNTY_CODE_003  PLACE_CODE_004   ...     \\\n",
       "0                      0               39               0   ...      \n",
       "1                      0               39               0   ...      \n",
       "2                      0               39               0   ...      \n",
       "3                      0               95            1052   ...      \n",
       "4                      0               95            1052   ...      \n",
       "6                      0               53           30760   ...      \n",
       "8                      0               53           30760   ...      \n",
       "9                      0               53           30760   ...      \n",
       "10                     0              215           30760   ...      \n",
       "11                     0              215           30760   ...      \n",
       "\n",
       "   DTL_TYPE_OF_IMP  SPECIAL_CODE STEP_CODE STATUS_WITH_10YR_RULE  \\\n",
       "0              NaN           NaN       NaN                     0   \n",
       "1              NaN           NaN       NaN                     0   \n",
       "2              NaN           NaN       NaN                     0   \n",
       "3              NaN           NaN       NaN                     2   \n",
       "4              NaN           NaN       NaN                     1   \n",
       "6              NaN           NaN       NaN                     2   \n",
       "8              NaN           NaN       NaN                     0   \n",
       "9              NaN           NaN       NaN                     0   \n",
       "10             NaN           NaN       NaN                     0   \n",
       "11             NaN           NaN       NaN                     0   \n",
       "\n",
       "    SUFFICIENCY_ASTERC  SUFFICIENCY_RATING  STATUS_NO_10YR_RULE  CAT10  CAT23  \\\n",
       "0                  NaN                93.0                    0      G      7   \n",
       "1                  NaN                84.0                    0      F      6   \n",
       "2                  NaN                71.3                    0      F      5   \n",
       "3                  NaN                49.0                    2      F      6   \n",
       "4                  NaN                49.1                    1      P      4   \n",
       "6                    *                94.9                    2      F      6   \n",
       "8                  NaN                94.6                    0      F      5   \n",
       "9                  NaN                98.0                    0      F      6   \n",
       "10                   *                97.0                    0      F      5   \n",
       "11                 NaN                93.0                    0      F      6   \n",
       "\n",
       "      CAT29  \n",
       "0    404.68  \n",
       "1     34.84  \n",
       "2    265.32  \n",
       "3    190.19  \n",
       "4    117.42  \n",
       "6    354.54  \n",
       "8    106.86  \n",
       "9    515.20  \n",
       "10   441.62  \n",
       "11  1232.64  \n",
       "\n",
       "[10 rows x 137 columns]"
      ]
     },
     "execution_count": 3,
     "metadata": {},
     "output_type": "execute_result"
    }
   ],
   "source": [
    "data.head(10)"
   ]
  },
  {
   "cell_type": "code",
   "execution_count": 4,
   "metadata": {},
   "outputs": [
    {
     "data": {
      "text/plain": [
       "count    9198.000000\n",
       "mean       77.085258\n",
       "std        19.635620\n",
       "min         0.000000\n",
       "25%        65.900000\n",
       "50%        81.050000\n",
       "75%        93.700000\n",
       "max       100.000000\n",
       "Name: SUFFICIENCY_RATING, dtype: float64"
      ]
     },
     "execution_count": 4,
     "metadata": {},
     "output_type": "execute_result"
    }
   ],
   "source": [
    "data['SUFFICIENCY_RATING'].describe()"
   ]
  },
  {
   "cell_type": "code",
   "execution_count": 5,
   "metadata": {},
   "outputs": [
    {
     "data": {
      "image/png": "[encoded data removed]",
      "text/plain": [
       "<Figure size 432x288 with 1 Axes>"
      ]
     },
     "metadata": {
      "needs_background": "light"
     },
     "output_type": "display_data"
    }
   ],
   "source": [
    "data['SUFFICIENCY_RATING'].plot(kind='hist',bins=20)\n",
    "plt.show()"
   ]
  },
  {
   "cell_type": "code",
   "execution_count": 6,
   "metadata": {},
   "outputs": [
    {
     "name": "stdout",
     "output_type": "stream",
     "text": [
      "10.697977821265493\n",
      "48.043052837573384\n",
      "51.956947162426616\n"
     ]
    }
   ],
   "source": [
    "perc_atorbelow_50 = data['SUFFICIENCY_RATING'].loc[data['SUFFICIENCY_RATING']<=50].shape[0] / num_bridges *100\n",
    "perc_atorbelow_80 = data['SUFFICIENCY_RATING'].loc[data['SUFFICIENCY_RATING']<=80].shape[0] / num_bridges *100\n",
    "perc_above_80 = 100-perc_atorbelow_80\n",
    "print(perc_atorbelow_50)\n",
    "print(perc_atorbelow_80)\n",
    "print(perc_above_80)"
   ]
  },
  {
   "cell_type": "code",
   "execution_count": 7,
   "metadata": {},
   "outputs": [
    {
     "data": {
      "text/plain": [
       "count    9198.000000\n",
       "mean     1975.618069\n",
       "std        21.395724\n",
       "min      1872.000000\n",
       "25%      1961.000000\n",
       "50%      1975.000000\n",
       "75%      1992.000000\n",
       "max      2017.000000\n",
       "Name: YEAR_BUILT_027, dtype: float64"
      ]
     },
     "execution_count": 7,
     "metadata": {},
     "output_type": "execute_result"
    }
   ],
   "source": [
    "data['YEAR_BUILT_027'].describe()"
   ]
  },
  {
   "cell_type": "code",
   "execution_count": 8,
   "metadata": {},
   "outputs": [
    {
     "name": "stderr",
     "output_type": "stream",
     "text": [
      "/anaconda3/lib/python3.7/site-packages/ipykernel_launcher.py:1: SettingWithCopyWarning: \n",
      "A value is trying to be set on a copy of a slice from a DataFrame.\n",
      "Try using .loc[row_indexer,col_indexer] = value instead\n",
      "\n",
      "See the caveats in the documentation: http://pandas.pydata.org/pandas-docs/stable/indexing.html#indexing-view-versus-copy\n",
      "  \"\"\"Entry point for launching an IPython kernel.\n"
     ]
    },
    {
     "data": {
      "text/plain": [
       "<matplotlib.axes._subplots.AxesSubplot at 0x1a257a9c88>"
      ]
     },
     "execution_count": 8,
     "metadata": {},
     "output_type": "execute_result"
    },
    {
     "data": {
      "image/png": "[encoded data removed]",
      "text/plain": [
       "<Figure size 432x288 with 1 Axes>"
      ]
     },
     "metadata": {
      "needs_background": "light"
     },
     "output_type": "display_data"
    }
   ],
   "source": [
    "data['AGE'] = current_year - data['YEAR_BUILT_027']\n",
    "data['YEAR_BUILT_027'].plot(kind='hist',bins=15)"
   ]
  },
  {
   "cell_type": "code",
   "execution_count": 9,
   "metadata": {},
   "outputs": [
    {
     "data": {
      "text/plain": [
       "count    9198.000000\n",
       "mean       41.381931\n",
       "std        21.395724\n",
       "min         0.000000\n",
       "25%        25.000000\n",
       "50%        42.000000\n",
       "75%        56.000000\n",
       "max       145.000000\n",
       "Name: AGE, dtype: float64"
      ]
     },
     "execution_count": 9,
     "metadata": {},
     "output_type": "execute_result"
    }
   ],
   "source": [
    "data.AGE.describe()"
   ]
  },
  {
   "cell_type": "markdown",
   "metadata": {},
   "source": [
    "145 years old! Let's all agree to never drive over that bridge in the future. Let's see the relationship between age and sufficiency rating"
   ]
  },
  {
   "cell_type": "code",
   "execution_count": 10,
   "metadata": {},
   "outputs": [
    {
     "name": "stderr",
     "output_type": "stream",
     "text": [
      "/anaconda3/lib/python3.7/site-packages/scipy/stats/stats.py:1713: FutureWarning: Using a non-tuple sequence for multidimensional indexing is deprecated; use `arr[tuple(seq)]` instead of `arr[seq]`. In the future this will be interpreted as an array index, `arr[np.array(seq)]`, which will result either in an error or a different result.\n",
      "  return np.add.reduce(sorted[indexer] * weights, axis=axis) / sumval\n"
     ]
    },
    {
     "data": {
      "image/png": "[encoded data removed]",
      "text/plain": [
       "<Figure size 360x360 with 1 Axes>"
      ]
     },
     "metadata": {
      "needs_background": "light"
     },
     "output_type": "display_data"
    }
   ],
   "source": [
    "sns.lmplot(x='AGE',y='SUFFICIENCY_RATING',data=data)\n",
    "plt.show()"
   ]
  },
  {
   "cell_type": "markdown",
   "metadata": {},
   "source": [
    "Not much information here, other than a weaker relationship than I originally thought. We will group by year and take the average sufficiency rating, then visualize."
   ]
  },
  {
   "cell_type": "code",
   "execution_count": 11,
   "metadata": {},
   "outputs": [
    {
     "name": "stderr",
     "output_type": "stream",
     "text": [
      "/anaconda3/lib/python3.7/site-packages/scipy/stats/stats.py:1713: FutureWarning: Using a non-tuple sequence for multidimensional indexing is deprecated; use `arr[tuple(seq)]` instead of `arr[seq]`. In the future this will be interpreted as an array index, `arr[np.array(seq)]`, which will result either in an error or a different result.\n",
      "  return np.add.reduce(sorted[indexer] * weights, axis=axis) / sumval\n"
     ]
    },
    {
     "data": {
      "text/plain": [
       "<seaborn.axisgrid.FacetGrid at 0x1a260c7e48>"
      ]
     },
     "execution_count": 11,
     "metadata": {},
     "output_type": "execute_result"
    },
    {
     "data": {
      "image/png": "[encoded data removed]",
      "text/plain": [
       "<Figure size 360x360 with 1 Axes>"
      ]
     },
     "metadata": {
      "needs_background": "light"
     },
     "output_type": "display_data"
    }
   ],
   "source": [
    "suff_data = data.groupby('YEAR_BUILT_027').mean()['SUFFICIENCY_RATING']\n",
    "suff_data = suff_data.reset_index()\n",
    "sns.lmplot(x='YEAR_BUILT_027',y='SUFFICIENCY_RATING',data=suff_data)"
   ]
  },
  {
   "cell_type": "markdown",
   "metadata": {},
   "source": [
    "Perhaps we should exclude bridges built before ASTM standards were in place, to normalize the data, because\n",
    "bridges built before then would have had inconsistent standards for material acceptance in the bridge.\n",
    "ASTM was officially founded in 1898, so if we choose a cutoff of 1900 to allow for adoption of the standard,\n",
    "then our dataset will be improved"
   ]
  },
  {
   "cell_type": "code",
   "execution_count": 12,
   "metadata": {},
   "outputs": [
    {
     "data": {
      "text/plain": [
       "0    30.2\n",
       "1     6.7\n",
       "2    19.8\n",
       "3    24.7\n",
       "4    30.9\n",
       "Name: STRUCTURE_LEN_MT_049, dtype: float64"
      ]
     },
     "execution_count": 12,
     "metadata": {},
     "output_type": "execute_result"
    }
   ],
   "source": [
    "data['STRUCTURE_LEN_MT_049'].head()"
   ]
  },
  {
   "cell_type": "code",
   "execution_count": null,
   "metadata": {},
   "outputs": [],
   "source": []
  },
  {
   "cell_type": "code",
   "execution_count": null,
   "metadata": {},
   "outputs": [],
   "source": []
  },
  {
   "cell_type": "code",
   "execution_count": null,
   "metadata": {},
   "outputs": [],
   "source": []
  },
  {
   "cell_type": "code",
   "execution_count": null,
   "metadata": {},
   "outputs": [],
   "source": []
  },
  {
   "cell_type": "code",
   "execution_count": null,
   "metadata": {},
   "outputs": [],
   "source": []
  }
 ],
 "metadata": {
  "kernelspec": {
   "display_name": "Python 3",
   "language": "python",
   "name": "python3"
  },
  "language_info": {
   "codemirror_mode": {
    "name": "ipython",
    "version": 3
   },
   "file_extension": ".py",
   "mimetype": "text/x-python",
   "name": "python",
   "nbconvert_exporter": "python",
   "pygments_lexer": "ipython3",
   "version": "3.7.0"
  }
 },
 "nbformat": 4,
 "nbformat_minor": 2
}
